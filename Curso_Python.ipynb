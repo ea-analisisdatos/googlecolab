{
  "nbformat": 4,
  "nbformat_minor": 0,
  "metadata": {
    "colab": {
      "provenance": [],
      "authorship_tag": "ABX9TyN76U79vm+c0/3djlYrnUeP",
      "include_colab_link": true
    },
    "kernelspec": {
      "name": "python3",
      "display_name": "Python 3"
    },
    "language_info": {
      "name": "python"
    }
  },
  "cells": [
    {
      "cell_type": "markdown",
      "metadata": {
        "id": "view-in-github",
        "colab_type": "text"
      },
      "source": [
        "<a href=\"https://colab.research.google.com/github/ea-analisisdatos/googlecolab/blob/main/Curso_Python.ipynb\" target=\"_parent\"><img src=\"https://colab.research.google.com/assets/colab-badge.svg\" alt=\"Open In Colab\"/></a>"
      ]
    },
    {
      "cell_type": "markdown",
      "source": [
        "El código en Python que ha proporcionado tiene como objetivo obtener una lista de los nombres de los archivos en el directorio '../data/aire/'. Veamos el codigo linea por linea:\n",
        "\n",
        "En resumen, el código en Python muestra los nombres de los archivos y directorios en el directorio '../data/aire/'."
      ],
      "metadata": {
        "id": "-MFW3Xgwx8nw"
      }
    },
    {
      "cell_type": "code",
      "execution_count": null,
      "metadata": {
        "id": "4j_tWXE8xrRP"
      },
      "outputs": [],
      "source": [
        "import os\n",
        "file_names = os.listdir('../data/aire/')\n",
        "file_names\n"
      ]
    },
    {
      "cell_type": "markdown",
      "source": [
        "Para listar solo los archivos .csv en una biblioteca en Python, puede utilizar la biblioteca osen combinación con la biblioteca glob. Aquí tienes un ejemplo de cómo hacerlo:\n",
        "\n",
        "En este ejemplo, se utiliza os.chdir()para cambiar el directorio actual al directorio de la biblioteca que desea explorar. Luego, glob.glob()se utiliza con el patrón '*.csv'para encontrar todos los archivos con extensión .csv en ese directorio. Finalmente, se imprime la lista de archivos .csv encontrados.\n",
        "\n",
        "Recuerda reemplazar '/ruta/a/la/biblioteca'con la ruta real de la biblioteca que deseas explorar.\n",
        "\n",
        "fuentes:\n",
        "\n",
        "Encuentre todos los archivos CSV en un directorio usando Python\n",
        "https://stackoverflow.com/questions/9234560/find-all-csv-files-in-a-directory-using-python\n"
      ],
      "metadata": {
        "id": "pIvnhlRbyPsu"
      }
    },
    {
      "cell_type": "code",
      "source": [
        "import os\n",
        "import glob\n",
        "\n",
        "# Especifica la ruta de la biblioteca\n",
        "path = '/ruta/a/la/biblioteca'\n",
        "\n",
        "# Cambia el directorio actual a la ruta de la biblioteca\n",
        "os.chdir(path)\n",
        "\n",
        "# Utiliza glob para encontrar todos los archivos .csv en el directorio actual\n",
        "csv_files = glob.glob('*.csv')\n",
        "\n",
        "# Imprime la lista de archivos .csv\n",
        "print(csv_files)\n"
      ],
      "metadata": {
        "id": "MOXINLE8yXWR"
      },
      "execution_count": null,
      "outputs": []
    },
    {
      "cell_type": "markdown",
      "source": [
        "ara obtener una lista de archivos de tipo CSV almacenados en una carpeta utilizando Pandas, puede seguir los siguientes pasos:\n",
        "\n",
        "Recuerda que este código leerá todos los archivos CSV en la carpeta actual donde se encuentra el programa. Si desea especificar una carpeta diferente, puede proporcionar la ruta completa en el lugar de uso os.getcwd().\n",
        "\n"
      ],
      "metadata": {
        "id": "V6wlmAiAyfQh"
      }
    },
    {
      "cell_type": "code",
      "source": [
        "# Importa los paquetes necesarios: pandas, os y glob.\n",
        "import pandas as pd\n",
        "import os\n",
        "import glob\n",
        "\n",
        "# Define la ruta de la carpeta en la que se encuentran los archivos CSV.\n",
        "path = os.getcwd()  # Obtiene la ruta del directorio actual\n",
        "\n",
        "# Utilice el paquete glob para recuperar los archivos/nombres de ruta que coincidan con el patrón específico \".csv\" en la carpeta.\n",
        "csv_files = glob.glob(os.path.join(path, \"*.csv\"))\n",
        "\n",
        "# Recorre la lista de archivos CSV y lee cada archivo utilizando pd.read_csv().\n",
        "for f in csv_files:\n",
        "    df = pd.read_csv(f)\n",
        "    # Realiza las operaciones deseadas con el DataFrame df\n",
        "    ...\n",
        "# Dentro del bucle, puede realizar las operaciones específicas que desea \n",
        "#realizar con cada archivo CSV. Por ejemplo, puede imprimir la ubicación, \n",
        "#el nombre y el contenido de cada archivo.\n",
        "for f in csv_files:\n",
        "    df = pd.read_csv(f)\n",
        "    print('Ubicación:', f)\n",
        "    print('Nombre de archivo:', os.path.basename(f))\n",
        "    print('Contenido:')\n",
        "    print(df)\n",
        "    print()\n",
        "\n"
      ],
      "metadata": {
        "id": "yjhV__K1yg3o"
      },
      "execution_count": null,
      "outputs": []
    },
    {
      "cell_type": "markdown",
      "source": [
        "Para leer los nombres de archivos de tipo CSV almacenados dentro de una lista en Python y aplicar las palabras mencionadas, puede seguir los siguientes pasos:"
      ],
      "metadata": {
        "id": "5poZHpU1zIv4"
      }
    },
    {
      "cell_type": "code",
      "source": [
        "import pandas as pd\n",
        "import re\n",
        "\n",
        "archivos = [\"nov_mo20.csv\", \"oct_mo21.csv\", \"sep_mo19.csv\", \"oct_mo19.csv\"]\n",
        "anios = []\n",
        "for archivo in archivos:\n",
        "    # Extrae los dos últimos dígitos del año utilizando expresiones regulares\n",
        "    match = re.search(r\"\\d{2}(?=\\.\\w+)\", archivo)\n",
        "    if match:\n",
        "        anio = \"ano\" + match.group()\n",
        "        if anio not in anios:\n",
        "            anios.append(anio)\n",
        "            # Crea un DataFrame utilizando pandas para cada año\n",
        "            df = pd.read_csv(archivo)\n",
        "            # Realiza las operaciones deseadas con el DataFrame df correspondiente al año\n",
        "            ...\n"
      ],
      "metadata": {
        "id": "AQATaJw8zMWY"
      },
      "execution_count": null,
      "outputs": []
    },
    {
      "cell_type": "markdown",
      "source": [
        "Para generar el nombre del DataFrame con el patrón correcto, puedes seguir los siguientes pasos:"
      ],
      "metadata": {
        "id": "ec2FqLCgzXx6"
      }
    },
    {
      "cell_type": "code",
      "source": [
        "import pandas as pd\n",
        "import re\n",
        "archivos = [\"nov_mo20.csv\", \"oct_mo21.csv\", \"sep_mo19.csv\", \"oct_mo19.csv\"]\n",
        "for archivo in archivos:\n",
        "    # Extrae los dos últimos dígitos del año utilizando expresiones regulares\n",
        "    match = re.search(r\"\\d{2}(?=\\.\\w+)\", archivo)\n",
        "    if match:\n",
        "        year = match.group()\n",
        "        df_name = \"df_\" + year\n",
        "        # Crea un DataFrame utilizando pandas para cada archivo\n",
        "        globals()[df_name] = pd.read_csv(archivo)\n"
      ],
      "metadata": {
        "id": "FEK9RY2czYcs"
      },
      "execution_count": null,
      "outputs": []
    },
    {
      "cell_type": "markdown",
      "source": [
        "Aquí tienes un código que imprimirá los dataframes y sus respectivos nombres al final:\n",
        "Este código crea dos dataframes de ejemplo, df1y df2, y luego los imprime junto con sus respectivos nombres al final. Puedes agregar más marcos de datos siguiendo un patrón similar."
      ],
      "metadata": {
        "id": "sQp4af8Xzfht"
      }
    },
    {
      "cell_type": "code",
      "source": [
        "import pandas as pd\n",
        "import numpy as np\n",
        "\n",
        "# Crear un dataframe de ejemplo\n",
        "data = {\n",
        "  'Col1': np.random.randint(20, 100, 20),\n",
        "  'Col2': np.random.randint(20, 100, 20),\n",
        "  'Col3': np.random.randint(20, 100, 20)\n",
        "}\n",
        "df1 = pd.DataFrame(data)\n",
        "\n",
        "# Imprimir el primer dataframe y su nombre\n",
        "print(\"DataFrame 1:\")\n",
        "print(df1)\n",
        "\n",
        "# Crear otro dataframe de ejemplo\n",
        "data = {\n",
        "  'Col4': np.random.randint(20, 100, 20),\n",
        "  'Col5': np.random.randint(20, 100, 20),\n",
        "  'Col6': np.random.randint(20, 100, 20)\n",
        "}\n",
        "df2 = pd.DataFrame(data)\n",
        "\n",
        "# Imprimir el segundo dataframe y su nombre\n",
        "print(\"DataFrame 2:\")\n",
        "print(df2)\n"
      ],
      "metadata": {
        "id": "nneObfswzgH5"
      },
      "execution_count": null,
      "outputs": []
    },
    {
      "cell_type": "markdown",
      "source": [
        "Para imprimir los dataframes creados en el código proporcionado, puede utilizar el siguiente código adicional al final:\n",
        "Este código registra la lista de archivos, crea los marcos de datos utilizando pandas y los guarda en variables globales con nombres dinámicos. Luego, utilice un bucle adicional para imprimir cada uno de los marcos de datos creados.\n",
        "\n",
        "Recuerda que debes tener instalada la biblioteca pandas ( import pandas as pd) y que los archivos en la lista archivosdeben ser archivos CSV válidos."
      ],
      "metadata": {
        "id": "E20fRJxuzp79"
      }
    },
    {
      "cell_type": "code",
      "source": [
        "for archivo in archivos:\n",
        "    # Extrae los dos últimos dígitos del año utilizando expresiones regulares\n",
        "    match = re.search(r\"\\d{2}(?=\\.\\w+)\", archivo)\n",
        "    if match:\n",
        "        year = match.group()\n",
        "        df_name = \"df_\" + year\n",
        "        # Crea un DataFrame utilizando pandas para cada archivo\n",
        "        globals()[df_name] = pd.read_csv(archivo)\n",
        "\n",
        "# Imprime los dataframes creados\n",
        "for archivo in archivos:\n",
        "    match = re.search(r\"\\d{2}(?=\\.\\w+)\", archivo)\n",
        "    if match:\n",
        "        year = match.group()\n",
        "        df_name = \"df_\" + year\n",
        "        print(globals()[df_name])\n"
      ],
      "metadata": {
        "id": "zABav6IezqeS"
      },
      "execution_count": null,
      "outputs": []
    },
    {
      "cell_type": "markdown",
      "source": [
        "Para crear un DataFrame en Pandas dinámicamente a partir de una lista de nombres, puedes seguir los siguientes pasos:"
      ],
      "metadata": {
        "id": "36GJdlZDzxCU"
      }
    },
    {
      "cell_type": "code",
      "source": [
        "import pandas as pd\n",
        "nombres = ['nombre1', 'nombre2', 'nombre3']\n",
        "datos = {}\n",
        "for nombre in nombres:\n",
        "    datos[nombre] = []\n",
        "for nombre in nombres:\n",
        "    valor = input(f\"Ingrese el valor para {nombre}: \")\n",
        "    datos[nombre].append(valor)\n",
        "df = pd.DataFrame(datos)\n"
      ],
      "metadata": {
        "id": "W0HttTt7z0yr"
      },
      "execution_count": null,
      "outputs": []
    },
    {
      "cell_type": "markdown",
      "source": [
        "Para crear automáticamente varios DataFrames con nombres que se pueden obtener de una lista en Python, utilizar un enfoque dinámico y aprovechar la capacidad de creación y mostrar dinámica de variables en Python. Aquí tienes un ejemplo de cómo hacerlo:\n",
        "\n",
        "En este ejemplo, se utiliza un bucle forpara iterar sobre la lista de nombres y crear un DataFrame vacío para cada nombre. La función globals()se utiliza para crear las variables con los nombres de los DataFrames y asignarles un DataFrame vacío utilizando pd.DataFrame().\n",
        "\n",
        "Ten en cuenta que esta técnica utiliza la creación de variables dinámicas utilizando el diccionario globals(). Sin embargo, esto no puede ser la forma más recomendada de trabajar con múltiples DataFrames, especialmente si el número de DataFrames es grande. En esos casos, podría ser más eficiente utilizar una estructura de datos como un diccionario para almacenar los DataFrames en lugar de crear variables individuales para cada uno."
      ],
      "metadata": {
        "id": "eMGxWaryz9DO"
      }
    },
    {
      "cell_type": "code",
      "source": [
        "import pandas as pd\n",
        "\n",
        "# Lista de nombres para los DataFrames\n",
        "nombres = ['df1', 'df2', 'df3']\n",
        "\n",
        "# Creación dinámica de los DataFrames\n",
        "for nombre in nombres:\n",
        "    # Crear un DataFrame vacío\n",
        "    globals()[nombre] = pd.DataFrame()\n",
        "\n",
        "# Verificar los DataFrames creados\n",
        "print(df1)\n",
        "print(df2)\n",
        "print(df3)\n"
      ],
      "metadata": {
        "id": "SbgAuqNM0HPC"
      },
      "execution_count": null,
      "outputs": []
    },
    {
      "cell_type": "markdown",
      "source": [
        "Por supuesto, puede imprimir los DataFrames creados dinámicamente al final del código utilizando un bucle for. Aquí tienes un ejemplo de cómo hacerlo:\n",
        "\n",
        "En este ejemplo, después de crear los DataFrames dinámicamente utilizando un bucle for, se utiliza otro bucle forpara imprimir cada DataFrame. La función eval()se utiliza para obtener el valor del DataFrame correspondiente a cada nombre de DataFrame en la lista nombresy luego se imprime.\n",
        "\n",
        "Ten en cuenta que en este ejemplo se supone que los DataFrames están almacenados en variables con los nombres df1, df2, df3, etc., como se especifica en la lista nombres. Si los DataFrames se almacenan en una estructura de datos diferente, como un diccionario, el código deberá modificarse en consecuencia."
      ],
      "metadata": {
        "id": "co6t1q_u0LjX"
      }
    },
    {
      "cell_type": "code",
      "source": [
        "import pandas as pd\n",
        "\n",
        "# Lista de nombres para los DataFrames\n",
        "nombres = ['df1', 'df2', 'df3']\n",
        "\n",
        "# Creación dinámica de los DataFrames\n",
        "for nombre in nombres:\n",
        "    # Crear un DataFrame vacío\n",
        "    globals()[nombre] = pd.DataFrame()\n",
        "\n",
        "# Imprimir los DataFrames creados\n",
        "for nombre in nombres:\n",
        "    print(eval(nombre))\n"
      ],
      "metadata": {
        "id": "zJLqV-qt0MQW"
      },
      "execution_count": null,
      "outputs": []
    },
    {
      "cell_type": "markdown",
      "source": [
        "Para imprimir los DataFrames que han sido creados dentro de globals, puede utilizar la función globals()para acceder a los nombres y valores de todas las variables globales, y luego verificar si cada variable es un DataFrame. Aquí tienes un ejemplo de cómo hacerlo:\n",
        "\n",
        "En este ejemplo, se crean tres DataFrames de ejemplo ( df1, df2, df3). Luego, se utiliza la función globals()para obtener un diccionario de todas las variables globales y sus valores. Luego, se registra este diccionario y se verifica si cada valor es una instancia de pd.DataFrame(es decir, un DataFrame). Si es así, se imprime el nombre de la variable y el DataFrame correspondiente.\n",
        "\n",
        "Esto te permitirá imprimir los DataFrames que han sido creados dentro de globals. Recuerda que esta solución supone que los DataFrames se han almacenado directamente en variables globales y no en otras estructuras de datos, como diccionarios."
      ],
      "metadata": {
        "id": "VbX4zPFB0Yl4"
      }
    },
    {
      "cell_type": "code",
      "source": [
        "import pandas as pd\n",
        "\n",
        "# Crear algunos DataFrames de ejemplo\n",
        "df1 = pd.DataFrame({'A': [1, 2, 3], 'B': [4, 5, 6]})\n",
        "df2 = pd.DataFrame({'X': [7, 8, 9], 'Y': [10, 11, 12]})\n",
        "df3 = pd.DataFrame({'Z': [13, 14, 15], 'W': [16, 17, 18]})\n",
        "\n",
        "# Obtener todas las variables globales\n",
        "variables_globales = globals()\n",
        "\n",
        "# Imprimir los DataFrames creados dentro de globals\n",
        "for nombre, valor in variables_globales.items():\n",
        "    if isinstance(valor, pd.DataFrame):\n",
        "        print(f\"DataFrame '{nombre}':\")\n",
        "        print(valor)\n",
        "        print()\n"
      ],
      "metadata": {
        "id": "nnIoTbay0cI0"
      },
      "execution_count": null,
      "outputs": []
    },
    {
      "cell_type": "markdown",
      "source": [
        "Para eliminar dataframes vacíos en Python, hay varias formas de lograrlo. A continuación, le proporcionaré dos enfoques comunes:\n",
        "\n",
        "Eliminar referencias a los dataframes: Si ha creado los dataframes dinámicamente y los ha almacenado en una lista o variables, puede eliminar esas referencias para permitir que el recolector de basura libere la memoria asociada. Aquí hay un ejemplo de cómo hacerlo:"
      ],
      "metadata": {
        "id": "CfsjYZiW0iTP"
      }
    },
    {
      "cell_type": "code",
      "source": [
        "import pandas as pd\n",
        "\n",
        "# Crear dataframes vacíos\n",
        "df1 = pd.DataFrame()\n",
        "df2 = pd.DataFrame()\n",
        "\n",
        "# Almacenar los dataframes en una lista\n",
        "lst = [df1, df2]\n",
        "\n",
        "# Eliminar la lista y, por lo tanto, las referencias a los dataframes\n",
        "del lst\n"
      ],
      "metadata": {
        "id": "vflW94OL0k0j"
      },
      "execution_count": null,
      "outputs": []
    },
    {
      "cell_type": "markdown",
      "source": [
        "En este ejemplo, al eliminar la lista lst, todas las referencias a los marcos de datos df1y df2se eliminan, lo que permite que la memoria se libere.\n",
        "\n",
        "Utilizar el método dropna(): Si tienes un único marco de datos y deseas eliminar las filas que contienen valores vacíos, puedes utilizar el método dropna()de pandas. Aquí tienes un ejemplo:\n",
        "pitón\n",
        "\n",
        "En este ejemplo, el método dropna()se utiliza para eliminar las filas que contienen valores vacíos. El parámetro how='any'indica que se deben eliminar todas las filas que contienen al menos un valor vacío. Puede ajustar los parámetros según sus necesidades específicas."
      ],
      "metadata": {
        "id": "YZ2EmfIV0o33"
      }
    },
    {
      "cell_type": "code",
      "source": [
        "import pandas as pd\n",
        "\n",
        "# Crear un dataframe con valores vacíos\n",
        "df = pd.DataFrame({'A': [1, 2, None], 'B': [None, 5, 6]})\n",
        "\n",
        "# Eliminar las filas con valores vacíos\n",
        "df = df.dropna()\n",
        "\n",
        "# El dataframe resultante no contiene filas con valores vacíos\n"
      ],
      "metadata": {
        "id": "faloOOIA0sLJ"
      },
      "execution_count": null,
      "outputs": []
    },
    {
      "cell_type": "markdown",
      "source": [
        "Para mejorar el código Python y evitar la creación de un DataFrame vacío si ya ha sido creado, puede agregar una condición para verificar si el DataFrame ya contiene datos antes de crear uno nuevo. Aquí tienes un ejemplo de cómo podrías hacerlo:\n",
        "\n",
        "En este ejemplo, se utiliza la función locals()para verificar si la variable 'df'existe en el ámbito actual. Si no existe, se crea un nuevo DataFrame vacío utilizando pd.DataFrame(). De esta manera, se evita la creación de un DataFrame vacío si ya ha sido creado previamente.\n",
        "\n",
        "Ten en cuenta que esta solución asume que el DataFrame se crea en el mismo ámbito donde se verifica su existencia. Si el DataFrame se crea en un ámbito diferente, puede utilizar otras técnicas, como pasar el DataFrame como argumento de una función o utilizar una variable global."
      ],
      "metadata": {
        "id": "xEzt1zHT0xbt"
      }
    },
    {
      "cell_type": "code",
      "source": [
        "import pandas as pd\n",
        "\n",
        "# Verificar si el DataFrame ya ha sido creado\n",
        "if 'df' not in locals():\n",
        "    df = pd.DataFrame()  # Crear un DataFrame vacío si no existe\n",
        "\n",
        "# Continuar con el resto del código...\n",
        "# Agregar datos al DataFrame o realizar otras operaciones\n"
      ],
      "metadata": {
        "id": "E_IS4Wt100kD"
      },
      "execution_count": null,
      "outputs": []
    }
  ]
}