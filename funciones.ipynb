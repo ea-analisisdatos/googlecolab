{
  "nbformat": 4,
  "nbformat_minor": 0,
  "metadata": {
    "colab": {
      "provenance": [],
      "authorship_tag": "ABX9TyPtmkD9WLNATmiopxu97w4W",
      "include_colab_link": true
    },
    "kernelspec": {
      "name": "python3",
      "display_name": "Python 3"
    },
    "language_info": {
      "name": "python"
    }
  },
  "cells": [
    {
      "cell_type": "markdown",
      "metadata": {
        "id": "view-in-github",
        "colab_type": "text"
      },
      "source": [
        "<a href=\"https://colab.research.google.com/github/ea-analisisdatos/googlecolab/blob/main/funciones.ipynb\" target=\"_parent\"><img src=\"https://colab.research.google.com/assets/colab-badge.svg\" alt=\"Open In Colab\"/></a>"
      ]
    },
    {
      "cell_type": "markdown",
      "source": [
        "Función que convierte segundos en días, horas, minutos y segundos:\n",
        "\n",
        "Obs.:\n",
        "Después de montar tu Google Drive, puedes importar el archivo que contiene la función sec2time utilizando el siguiente comando:\n",
        "\n",
        "%run \"/content/drive/My Drive/Colab Notebooks/nombre_del_archivo.ipynb\"\n",
        "\n",
        "Este comando debe estar en el cuaderno desde donde vamonos llamar las funiones en el cuaderno funciones.ipynb almacenado en Google Drive.\n",
        "\n",
        "Asegúrate de reemplazar nombre_del_archivo con el nombre real del archivo que contiene la función sec2time o otro nombre de función contenido en este cuaderno de funciones del proyecto."
      ],
      "metadata": {
        "id": "UxauV3VFC_3Q"
      }
    },
    {
      "cell_type": "code",
      "execution_count": null,
      "metadata": {
        "id": "CRSQkGjBCzNL"
      },
      "outputs": [],
      "source": [
        "def sec2time(sec):\n",
        "    m, s = divmod(sec, 60)\n",
        "    h, m = divmod(m, 60)\n",
        "    d, h = divmod(h, 24)\n",
        "\n",
        "    if d == 0:\n",
        "        return \"%02d:%02d:%02d\" % (h, m, s)\n",
        "    else:\n",
        "        return \"%d días, %02d:%02d:%02d\" % (d, h, m, s)\n"
      ]
    },
    {
      "cell_type": "markdown",
      "source": [
        "Esta función también convierte segundos en horas, minutos y segundos en el formato preferido."
      ],
      "metadata": {
        "id": "y7xL2TepDC3K"
      }
    },
    {
      "cell_type": "code",
      "source": [
        "def convert_to_preferred_format(sec):\n",
        "    sec = sec % (24 * 3600)\n",
        "    hour = sec // 3600\n",
        "    sec %= 3600\n",
        "    minutes = sec // 60\n",
        "    sec %= 60\n",
        "    return \"%d:%02d:%02d\" % (hour, minutes, sec)\n"
      ],
      "metadata": {
        "id": "HxhbejPKDIwF"
      },
      "execution_count": null,
      "outputs": []
    }
  ]
}