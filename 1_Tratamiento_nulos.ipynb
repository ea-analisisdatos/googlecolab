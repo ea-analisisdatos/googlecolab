{
  "cells": [
    {
      "cell_type": "markdown",
      "metadata": {
        "id": "view-in-github",
        "colab_type": "text"
      },
      "source": [
        "<a href=\"https://colab.research.google.com/github/ea-analisisdatos/googlecolab/blob/main/1_Tratamiento_nulos.ipynb\" target=\"_parent\"><img src=\"https://colab.research.google.com/assets/colab-badge.svg\" alt=\"Open In Colab\"/></a>"
      ]
    },
    {
      "cell_type": "markdown",
      "metadata": {
        "id": "sS70ZSOuUwQU"
      },
      "source": [
        "# Tratamiento de Valores Nulos"
      ]
    },
    {
      "cell_type": "markdown",
      "metadata": {
        "id": "J8B1SFRNUwQZ"
      },
      "source": [
        "### Importar Librerías"
      ]
    },
    {
      "cell_type": "code",
      "execution_count": null,
      "metadata": {
        "id": "WQFSi2kNUwQa"
      },
      "outputs": [],
      "source": [
        "import numpy as np\n",
        "import pandas as pd\n",
        "import seaborn as sns\n",
        "import matplotlib.pyplot as plt"
      ]
    },
    {
      "cell_type": "markdown",
      "metadata": {
        "id": "xsAftEShUwQc"
      },
      "source": [
        "### Importar los datos"
      ]
    },
    {
      "cell_type": "code",
      "execution_count": null,
      "metadata": {
        "id": "8cxjUWBWUwQd",
        "outputId": "d7a10ab6-d30b-4870-c575-ece0859f836c"
      },
      "outputs": [
        {
          "data": {
            "text/html": [
              "<div>\n",
              "<style scoped>\n",
              "    .dataframe tbody tr th:only-of-type {\n",
              "        vertical-align: middle;\n",
              "    }\n",
              "\n",
              "    .dataframe tbody tr th {\n",
              "        vertical-align: top;\n",
              "    }\n",
              "\n",
              "    .dataframe thead th {\n",
              "        text-align: right;\n",
              "    }\n",
              "</style>\n",
              "<table border=\"1\" class=\"dataframe\">\n",
              "  <thead>\n",
              "    <tr style=\"text-align: right;\">\n",
              "      <th></th>\n",
              "      <th>CODIGO</th>\n",
              "      <th>FECHA</th>\n",
              "      <th>ANO</th>\n",
              "      <th>MES</th>\n",
              "      <th>DIA</th>\n",
              "      <th>DIA_SEMANA</th>\n",
              "      <th>HORA</th>\n",
              "      <th>ESTACION</th>\n",
              "      <th>SO2</th>\n",
              "      <th>PM10</th>\n",
              "      <th>...</th>\n",
              "      <th>ICA_PM10</th>\n",
              "      <th>ICA_O3</th>\n",
              "      <th>ICA_NO2</th>\n",
              "      <th>ICA</th>\n",
              "      <th>VEL_VIENTO</th>\n",
              "      <th>DIR_VIENTO</th>\n",
              "      <th>TEMPERATURA</th>\n",
              "      <th>HUMEDAD</th>\n",
              "      <th>PRECIPITACION</th>\n",
              "      <th>DIR_VIENTO_CARDINAL</th>\n",
              "    </tr>\n",
              "  </thead>\n",
              "  <tbody>\n",
              "    <tr>\n",
              "      <th>0</th>\n",
              "      <td>28079008</td>\n",
              "      <td>2022-01-01 00:00:00</td>\n",
              "      <td>2022.0</td>\n",
              "      <td>1.0</td>\n",
              "      <td>1.0</td>\n",
              "      <td>Sabado</td>\n",
              "      <td>0</td>\n",
              "      <td>8.0</td>\n",
              "      <td>4.0</td>\n",
              "      <td>16.0</td>\n",
              "      <td>...</td>\n",
              "      <td>32.0</td>\n",
              "      <td>15.32</td>\n",
              "      <td>87.5</td>\n",
              "      <td>34.51</td>\n",
              "      <td>NaN</td>\n",
              "      <td>NaN</td>\n",
              "      <td>NaN</td>\n",
              "      <td>NaN</td>\n",
              "      <td>NaN</td>\n",
              "      <td>NaN</td>\n",
              "    </tr>\n",
              "    <tr>\n",
              "      <th>1</th>\n",
              "      <td>28079008</td>\n",
              "      <td>2022-01-01 01:00:00</td>\n",
              "      <td>2022.0</td>\n",
              "      <td>1.0</td>\n",
              "      <td>1.0</td>\n",
              "      <td>Sabado</td>\n",
              "      <td>1</td>\n",
              "      <td>8.0</td>\n",
              "      <td>4.0</td>\n",
              "      <td>27.0</td>\n",
              "      <td>...</td>\n",
              "      <td>54.0</td>\n",
              "      <td>6.82</td>\n",
              "      <td>120.0</td>\n",
              "      <td>46.00</td>\n",
              "      <td>NaN</td>\n",
              "      <td>NaN</td>\n",
              "      <td>NaN</td>\n",
              "      <td>NaN</td>\n",
              "      <td>NaN</td>\n",
              "      <td>NaN</td>\n",
              "    </tr>\n",
              "    <tr>\n",
              "      <th>2</th>\n",
              "      <td>28079008</td>\n",
              "      <td>2022-01-01 02:00:00</td>\n",
              "      <td>2022.0</td>\n",
              "      <td>1.0</td>\n",
              "      <td>1.0</td>\n",
              "      <td>Sabado</td>\n",
              "      <td>2</td>\n",
              "      <td>8.0</td>\n",
              "      <td>3.0</td>\n",
              "      <td>27.0</td>\n",
              "      <td>...</td>\n",
              "      <td>54.0</td>\n",
              "      <td>5.88</td>\n",
              "      <td>117.5</td>\n",
              "      <td>44.94</td>\n",
              "      <td>NaN</td>\n",
              "      <td>NaN</td>\n",
              "      <td>NaN</td>\n",
              "      <td>NaN</td>\n",
              "      <td>NaN</td>\n",
              "      <td>NaN</td>\n",
              "    </tr>\n",
              "    <tr>\n",
              "      <th>3</th>\n",
              "      <td>28079008</td>\n",
              "      <td>2022-01-01 03:00:00</td>\n",
              "      <td>2022.0</td>\n",
              "      <td>1.0</td>\n",
              "      <td>1.0</td>\n",
              "      <td>Sabado</td>\n",
              "      <td>3</td>\n",
              "      <td>8.0</td>\n",
              "      <td>3.0</td>\n",
              "      <td>17.0</td>\n",
              "      <td>...</td>\n",
              "      <td>34.0</td>\n",
              "      <td>11.85</td>\n",
              "      <td>95.0</td>\n",
              "      <td>35.81</td>\n",
              "      <td>NaN</td>\n",
              "      <td>NaN</td>\n",
              "      <td>NaN</td>\n",
              "      <td>NaN</td>\n",
              "      <td>NaN</td>\n",
              "      <td>NaN</td>\n",
              "    </tr>\n",
              "    <tr>\n",
              "      <th>4</th>\n",
              "      <td>28079008</td>\n",
              "      <td>2022-01-01 04:00:00</td>\n",
              "      <td>2022.0</td>\n",
              "      <td>1.0</td>\n",
              "      <td>1.0</td>\n",
              "      <td>Sabado</td>\n",
              "      <td>4</td>\n",
              "      <td>8.0</td>\n",
              "      <td>3.0</td>\n",
              "      <td>5.0</td>\n",
              "      <td>...</td>\n",
              "      <td>10.0</td>\n",
              "      <td>20.55</td>\n",
              "      <td>65.0</td>\n",
              "      <td>24.49</td>\n",
              "      <td>NaN</td>\n",
              "      <td>NaN</td>\n",
              "      <td>NaN</td>\n",
              "      <td>NaN</td>\n",
              "      <td>NaN</td>\n",
              "      <td>NaN</td>\n",
              "    </tr>\n",
              "  </tbody>\n",
              "</table>\n",
              "<p>5 rows × 27 columns</p>\n",
              "</div>"
            ],
            "text/plain": [
              "     CODIGO                FECHA     ANO  MES  DIA DIA_SEMANA  HORA  ESTACION  \\\n",
              "0  28079008  2022-01-01 00:00:00  2022.0  1.0  1.0     Sabado     0       8.0   \n",
              "1  28079008  2022-01-01 01:00:00  2022.0  1.0  1.0     Sabado     1       8.0   \n",
              "2  28079008  2022-01-01 02:00:00  2022.0  1.0  1.0     Sabado     2       8.0   \n",
              "3  28079008  2022-01-01 03:00:00  2022.0  1.0  1.0     Sabado     3       8.0   \n",
              "4  28079008  2022-01-01 04:00:00  2022.0  1.0  1.0     Sabado     4       8.0   \n",
              "\n",
              "   SO2  PM10  ...  ICA_PM10  ICA_O3  ICA_NO2    ICA  VEL_VIENTO  DIR_VIENTO  \\\n",
              "0  4.0  16.0  ...      32.0   15.32     87.5  34.51         NaN         NaN   \n",
              "1  4.0  27.0  ...      54.0    6.82    120.0  46.00         NaN         NaN   \n",
              "2  3.0  27.0  ...      54.0    5.88    117.5  44.94         NaN         NaN   \n",
              "3  3.0  17.0  ...      34.0   11.85     95.0  35.81         NaN         NaN   \n",
              "4  3.0   5.0  ...      10.0   20.55     65.0  24.49         NaN         NaN   \n",
              "\n",
              "   TEMPERATURA  HUMEDAD  PRECIPITACION  DIR_VIENTO_CARDINAL  \n",
              "0          NaN      NaN            NaN                  NaN  \n",
              "1          NaN      NaN            NaN                  NaN  \n",
              "2          NaN      NaN            NaN                  NaN  \n",
              "3          NaN      NaN            NaN                  NaN  \n",
              "4          NaN      NaN            NaN                  NaN  \n",
              "\n",
              "[5 rows x 27 columns]"
            ]
          },
          "execution_count": 106,
          "metadata": {},
          "output_type": "execute_result"
        }
      ],
      "source": [
        "ruta = '../data/calidad_aire_2022.csv'\n",
        "ruta_nuevoCSV = '../data/calidad_aire_2022_clean_nulos.csv'\n",
        "data = pd.read_csv(ruta, delimiter=',', engine='python', index_col=0)\n",
        "data.head()"
      ]
    },
    {
      "cell_type": "markdown",
      "metadata": {
        "id": "qKjBvq2zUwQf"
      },
      "source": [
        "#### Cantidad de Registros Importados"
      ]
    },
    {
      "cell_type": "code",
      "execution_count": null,
      "metadata": {
        "id": "wwIyKdJ5UwQf",
        "outputId": "a6a4dfa2-367a-4013-b284-9d06c7c93745"
      },
      "outputs": [
        {
          "data": {
            "text/plain": [
              "(87072, 27)"
            ]
          },
          "execution_count": 107,
          "metadata": {},
          "output_type": "execute_result"
        }
      ],
      "source": [
        "data.shape"
      ]
    },
    {
      "cell_type": "markdown",
      "metadata": {
        "id": "1hE5Uv6sUwQg"
      },
      "source": [
        "#### Identificación de los tipos de columnas"
      ]
    },
    {
      "cell_type": "code",
      "execution_count": null,
      "metadata": {
        "id": "nuIjP0OOUwQg",
        "outputId": "1ea623a6-242b-4662-f5d0-f158d2c47265"
      },
      "outputs": [
        {
          "name": "stdout",
          "output_type": "stream",
          "text": [
            "<class 'pandas.core.frame.DataFrame'>\n",
            "Int64Index: 87072 entries, 0 to 87071\n",
            "Data columns (total 27 columns):\n",
            " #   Column               Non-Null Count  Dtype  \n",
            "---  ------               --------------  -----  \n",
            " 0   CODIGO               87072 non-null  int64  \n",
            " 1   FECHA                87072 non-null  object \n",
            " 2   ANO                  87072 non-null  float64\n",
            " 3   MES                  87072 non-null  float64\n",
            " 4   DIA                  87072 non-null  float64\n",
            " 5   DIA_SEMANA           87072 non-null  object \n",
            " 6   HORA                 87072 non-null  int64  \n",
            " 7   ESTACION             87072 non-null  float64\n",
            " 8   SO2                  25293 non-null  float64\n",
            " 9   PM10                 32016 non-null  float64\n",
            " 10  O3                   34320 non-null  float64\n",
            " 11  NO2                  43097 non-null  float64\n",
            " 12  PM2.5                16127 non-null  float64\n",
            " 13  NOM_TIPO             43536 non-null  object \n",
            " 14  LATITUD              43536 non-null  float64\n",
            " 15  LONGITUD             43536 non-null  float64\n",
            " 16  ICA_SO2              25293 non-null  float64\n",
            " 17  ICA_PM10             32016 non-null  float64\n",
            " 18  ICA_O3               34320 non-null  float64\n",
            " 19  ICA_NO2              43097 non-null  float64\n",
            " 20  ICA                  43318 non-null  float64\n",
            " 21  VEL_VIENTO           43536 non-null  float64\n",
            " 22  DIR_VIENTO           43536 non-null  float64\n",
            " 23  TEMPERATURA          43536 non-null  float64\n",
            " 24  HUMEDAD              43536 non-null  float64\n",
            " 25  PRECIPITACION        43536 non-null  float64\n",
            " 26  DIR_VIENTO_CARDINAL  43536 non-null  object \n",
            "dtypes: float64(21), int64(2), object(4)\n",
            "memory usage: 18.6+ MB\n"
          ]
        }
      ],
      "source": [
        "data.info()"
      ]
    },
    {
      "cell_type": "markdown",
      "metadata": {
        "id": "U6ELEcfNUwQh"
      },
      "source": [
        "### Estadística Descriptiva"
      ]
    },
    {
      "cell_type": "code",
      "execution_count": null,
      "metadata": {
        "id": "HuGiINHNUwQh",
        "outputId": "39b8c851-8b54-4691-d02a-d1de24e747e0"
      },
      "outputs": [
        {
          "data": {
            "text/html": [
              "<div>\n",
              "<style scoped>\n",
              "    .dataframe tbody tr th:only-of-type {\n",
              "        vertical-align: middle;\n",
              "    }\n",
              "\n",
              "    .dataframe tbody tr th {\n",
              "        vertical-align: top;\n",
              "    }\n",
              "\n",
              "    .dataframe thead th {\n",
              "        text-align: right;\n",
              "    }\n",
              "</style>\n",
              "<table border=\"1\" class=\"dataframe\">\n",
              "  <thead>\n",
              "    <tr style=\"text-align: right;\">\n",
              "      <th></th>\n",
              "      <th>CODIGO</th>\n",
              "      <th>ANO</th>\n",
              "      <th>MES</th>\n",
              "      <th>DIA</th>\n",
              "      <th>HORA</th>\n",
              "      <th>ESTACION</th>\n",
              "      <th>SO2</th>\n",
              "      <th>PM10</th>\n",
              "      <th>O3</th>\n",
              "      <th>NO2</th>\n",
              "      <th>...</th>\n",
              "      <th>ICA_SO2</th>\n",
              "      <th>ICA_PM10</th>\n",
              "      <th>ICA_O3</th>\n",
              "      <th>ICA_NO2</th>\n",
              "      <th>ICA</th>\n",
              "      <th>VEL_VIENTO</th>\n",
              "      <th>DIR_VIENTO</th>\n",
              "      <th>TEMPERATURA</th>\n",
              "      <th>HUMEDAD</th>\n",
              "      <th>PRECIPITACION</th>\n",
              "    </tr>\n",
              "  </thead>\n",
              "  <tbody>\n",
              "    <tr>\n",
              "      <th>count</th>\n",
              "      <td>87072.0</td>\n",
              "      <td>87072.0</td>\n",
              "      <td>87072.0</td>\n",
              "      <td>87072.0</td>\n",
              "      <td>87072.0</td>\n",
              "      <td>87072.0</td>\n",
              "      <td>25293.0</td>\n",
              "      <td>32016.0</td>\n",
              "      <td>34320.0</td>\n",
              "      <td>43097.0</td>\n",
              "      <td>...</td>\n",
              "      <td>25293.0</td>\n",
              "      <td>32016.0</td>\n",
              "      <td>34320.0</td>\n",
              "      <td>43097.0</td>\n",
              "      <td>43318.0</td>\n",
              "      <td>43536.0</td>\n",
              "      <td>43536.0</td>\n",
              "      <td>43536.0</td>\n",
              "      <td>43536.0</td>\n",
              "      <td>43536.0</td>\n",
              "    </tr>\n",
              "    <tr>\n",
              "      <th>mean</th>\n",
              "      <td>28079024.1</td>\n",
              "      <td>2022.0</td>\n",
              "      <td>6.5</td>\n",
              "      <td>15.7</td>\n",
              "      <td>11.5</td>\n",
              "      <td>24.1</td>\n",
              "      <td>3.9</td>\n",
              "      <td>20.6</td>\n",
              "      <td>53.2</td>\n",
              "      <td>27.9</td>\n",
              "      <td>...</td>\n",
              "      <td>3.1</td>\n",
              "      <td>41.2</td>\n",
              "      <td>44.3</td>\n",
              "      <td>69.8</td>\n",
              "      <td>44.3</td>\n",
              "      <td>0.6</td>\n",
              "      <td>104.6</td>\n",
              "      <td>17.1</td>\n",
              "      <td>57.0</td>\n",
              "      <td>0.0</td>\n",
              "    </tr>\n",
              "    <tr>\n",
              "      <th>std</th>\n",
              "      <td>10.5</td>\n",
              "      <td>0.0</td>\n",
              "      <td>3.5</td>\n",
              "      <td>8.8</td>\n",
              "      <td>6.9</td>\n",
              "      <td>10.5</td>\n",
              "      <td>2.6</td>\n",
              "      <td>25.2</td>\n",
              "      <td>31.4</td>\n",
              "      <td>20.8</td>\n",
              "      <td>...</td>\n",
              "      <td>2.1</td>\n",
              "      <td>50.3</td>\n",
              "      <td>26.2</td>\n",
              "      <td>52.1</td>\n",
              "      <td>21.5</td>\n",
              "      <td>0.7</td>\n",
              "      <td>99.8</td>\n",
              "      <td>9.2</td>\n",
              "      <td>20.8</td>\n",
              "      <td>0.2</td>\n",
              "    </tr>\n",
              "    <tr>\n",
              "      <th>min</th>\n",
              "      <td>28079008.0</td>\n",
              "      <td>2022.0</td>\n",
              "      <td>1.0</td>\n",
              "      <td>1.0</td>\n",
              "      <td>0.0</td>\n",
              "      <td>8.0</td>\n",
              "      <td>0.0</td>\n",
              "      <td>1.0</td>\n",
              "      <td>0.7</td>\n",
              "      <td>1.0</td>\n",
              "      <td>...</td>\n",
              "      <td>0.0</td>\n",
              "      <td>2.0</td>\n",
              "      <td>0.6</td>\n",
              "      <td>2.5</td>\n",
              "      <td>0.9</td>\n",
              "      <td>0.0</td>\n",
              "      <td>0.0</td>\n",
              "      <td>-8.4</td>\n",
              "      <td>6.0</td>\n",
              "      <td>0.0</td>\n",
              "    </tr>\n",
              "    <tr>\n",
              "      <th>25%</th>\n",
              "      <td>28079018.0</td>\n",
              "      <td>2022.0</td>\n",
              "      <td>4.0</td>\n",
              "      <td>8.0</td>\n",
              "      <td>5.8</td>\n",
              "      <td>18.0</td>\n",
              "      <td>2.0</td>\n",
              "      <td>9.0</td>\n",
              "      <td>29.4</td>\n",
              "      <td>12.0</td>\n",
              "      <td>...</td>\n",
              "      <td>1.6</td>\n",
              "      <td>18.0</td>\n",
              "      <td>24.5</td>\n",
              "      <td>30.0</td>\n",
              "      <td>31.6</td>\n",
              "      <td>0.0</td>\n",
              "      <td>0.0</td>\n",
              "      <td>9.9</td>\n",
              "      <td>41.0</td>\n",
              "      <td>0.0</td>\n",
              "    </tr>\n",
              "    <tr>\n",
              "      <th>50%</th>\n",
              "      <td>28079024.0</td>\n",
              "      <td>2022.0</td>\n",
              "      <td>7.0</td>\n",
              "      <td>16.0</td>\n",
              "      <td>11.5</td>\n",
              "      <td>24.0</td>\n",
              "      <td>4.0</td>\n",
              "      <td>16.0</td>\n",
              "      <td>53.8</td>\n",
              "      <td>22.0</td>\n",
              "      <td>...</td>\n",
              "      <td>3.2</td>\n",
              "      <td>32.0</td>\n",
              "      <td>44.8</td>\n",
              "      <td>55.0</td>\n",
              "      <td>40.4</td>\n",
              "      <td>0.7</td>\n",
              "      <td>123.0</td>\n",
              "      <td>15.9</td>\n",
              "      <td>63.0</td>\n",
              "      <td>0.0</td>\n",
              "    </tr>\n",
              "    <tr>\n",
              "      <th>75%</th>\n",
              "      <td>28079035.0</td>\n",
              "      <td>2022.0</td>\n",
              "      <td>10.0</td>\n",
              "      <td>23.0</td>\n",
              "      <td>17.2</td>\n",
              "      <td>35.0</td>\n",
              "      <td>5.0</td>\n",
              "      <td>25.0</td>\n",
              "      <td>74.1</td>\n",
              "      <td>38.0</td>\n",
              "      <td>...</td>\n",
              "      <td>4.0</td>\n",
              "      <td>50.0</td>\n",
              "      <td>61.7</td>\n",
              "      <td>95.0</td>\n",
              "      <td>52.8</td>\n",
              "      <td>0.7</td>\n",
              "      <td>195.0</td>\n",
              "      <td>24.2</td>\n",
              "      <td>68.0</td>\n",
              "      <td>0.0</td>\n",
              "    </tr>\n",
              "    <tr>\n",
              "      <th>max</th>\n",
              "      <td>28079036.0</td>\n",
              "      <td>2022.0</td>\n",
              "      <td>12.0</td>\n",
              "      <td>31.0</td>\n",
              "      <td>23.0</td>\n",
              "      <td>36.0</td>\n",
              "      <td>41.0</td>\n",
              "      <td>678.0</td>\n",
              "      <td>198.7</td>\n",
              "      <td>172.0</td>\n",
              "      <td>...</td>\n",
              "      <td>32.8</td>\n",
              "      <td>1356.0</td>\n",
              "      <td>165.6</td>\n",
              "      <td>430.0</td>\n",
              "      <td>468.6</td>\n",
              "      <td>7.3</td>\n",
              "      <td>359.0</td>\n",
              "      <td>42.2</td>\n",
              "      <td>100.0</td>\n",
              "      <td>12.1</td>\n",
              "    </tr>\n",
              "  </tbody>\n",
              "</table>\n",
              "<p>8 rows × 23 columns</p>\n",
              "</div>"
            ],
            "text/plain": [
              "           CODIGO      ANO      MES      DIA     HORA  ESTACION      SO2  \\\n",
              "count     87072.0  87072.0  87072.0  87072.0  87072.0   87072.0  25293.0   \n",
              "mean   28079024.1   2022.0      6.5     15.7     11.5      24.1      3.9   \n",
              "std          10.5      0.0      3.5      8.8      6.9      10.5      2.6   \n",
              "min    28079008.0   2022.0      1.0      1.0      0.0       8.0      0.0   \n",
              "25%    28079018.0   2022.0      4.0      8.0      5.8      18.0      2.0   \n",
              "50%    28079024.0   2022.0      7.0     16.0     11.5      24.0      4.0   \n",
              "75%    28079035.0   2022.0     10.0     23.0     17.2      35.0      5.0   \n",
              "max    28079036.0   2022.0     12.0     31.0     23.0      36.0     41.0   \n",
              "\n",
              "          PM10       O3      NO2  ...  ICA_SO2  ICA_PM10   ICA_O3  ICA_NO2  \\\n",
              "count  32016.0  34320.0  43097.0  ...  25293.0   32016.0  34320.0  43097.0   \n",
              "mean      20.6     53.2     27.9  ...      3.1      41.2     44.3     69.8   \n",
              "std       25.2     31.4     20.8  ...      2.1      50.3     26.2     52.1   \n",
              "min        1.0      0.7      1.0  ...      0.0       2.0      0.6      2.5   \n",
              "25%        9.0     29.4     12.0  ...      1.6      18.0     24.5     30.0   \n",
              "50%       16.0     53.8     22.0  ...      3.2      32.0     44.8     55.0   \n",
              "75%       25.0     74.1     38.0  ...      4.0      50.0     61.7     95.0   \n",
              "max      678.0    198.7    172.0  ...     32.8    1356.0    165.6    430.0   \n",
              "\n",
              "           ICA  VEL_VIENTO  DIR_VIENTO  TEMPERATURA  HUMEDAD  PRECIPITACION  \n",
              "count  43318.0     43536.0     43536.0      43536.0  43536.0        43536.0  \n",
              "mean      44.3         0.6       104.6         17.1     57.0            0.0  \n",
              "std       21.5         0.7        99.8          9.2     20.8            0.2  \n",
              "min        0.9         0.0         0.0         -8.4      6.0            0.0  \n",
              "25%       31.6         0.0         0.0          9.9     41.0            0.0  \n",
              "50%       40.4         0.7       123.0         15.9     63.0            0.0  \n",
              "75%       52.8         0.7       195.0         24.2     68.0            0.0  \n",
              "max      468.6         7.3       359.0         42.2    100.0           12.1  \n",
              "\n",
              "[8 rows x 23 columns]"
            ]
          },
          "execution_count": 109,
          "metadata": {},
          "output_type": "execute_result"
        }
      ],
      "source": [
        "##estadísticas descriptivas\n",
        "data.describe().round(1)"
      ]
    },
    {
      "cell_type": "markdown",
      "metadata": {
        "id": "I-3IuBkoUwQi"
      },
      "source": [
        "### Tratamiento Nulos"
      ]
    },
    {
      "cell_type": "markdown",
      "metadata": {
        "id": "WDhPAUpBUwQi"
      },
      "source": [
        "####  1. Identifica valores nulos"
      ]
    },
    {
      "cell_type": "code",
      "execution_count": null,
      "metadata": {
        "id": "w36aRGiPUwQi",
        "outputId": "2daedc9f-d937-4524-aff4-bcd698f93ec7"
      },
      "outputs": [
        {
          "data": {
            "text/plain": [
              "CODIGO                     0\n",
              "FECHA                      0\n",
              "ANO                        0\n",
              "MES                        0\n",
              "DIA                        0\n",
              "DIA_SEMANA                 0\n",
              "HORA                       0\n",
              "ESTACION                   0\n",
              "SO2                    61779\n",
              "PM10                   55056\n",
              "O3                     52752\n",
              "NO2                    43975\n",
              "PM2.5                  70945\n",
              "NOM_TIPO               43536\n",
              "LATITUD                43536\n",
              "LONGITUD               43536\n",
              "ICA_SO2                61779\n",
              "ICA_PM10               55056\n",
              "ICA_O3                 52752\n",
              "ICA_NO2                43975\n",
              "ICA                    43754\n",
              "VEL_VIENTO             43536\n",
              "DIR_VIENTO             43536\n",
              "TEMPERATURA            43536\n",
              "HUMEDAD                43536\n",
              "PRECIPITACION          43536\n",
              "DIR_VIENTO_CARDINAL    43536\n",
              "dtype: int64"
            ]
          },
          "execution_count": 110,
          "metadata": {},
          "output_type": "execute_result"
        }
      ],
      "source": [
        "data.isnull().sum()"
      ]
    },
    {
      "cell_type": "markdown",
      "metadata": {
        "id": "60k4O_a_UwQi"
      },
      "source": [
        "#####  1.1. Identifica si hay valores nulos en TODAS las columnas del dataframe \"data\""
      ]
    },
    {
      "cell_type": "code",
      "execution_count": null,
      "metadata": {
        "id": "CjsjjrShUwQj",
        "outputId": "24a40ca4-497c-490b-a2c1-0e33a5564b27"
      },
      "outputs": [
        {
          "name": "stdout",
          "output_type": "stream",
          "text": [
            "La columna SO2 tiene valores nulos.\n",
            "La columna PM10 tiene valores nulos.\n",
            "La columna O3 tiene valores nulos.\n",
            "La columna NO2 tiene valores nulos.\n",
            "La columna PM2.5 tiene valores nulos.\n",
            "La columna NOM_TIPO tiene valores nulos.\n",
            "La columna LATITUD tiene valores nulos.\n",
            "La columna LONGITUD tiene valores nulos.\n",
            "La columna ICA_SO2 tiene valores nulos.\n",
            "La columna ICA_PM10 tiene valores nulos.\n",
            "La columna ICA_O3 tiene valores nulos.\n",
            "La columna ICA_NO2 tiene valores nulos.\n",
            "La columna ICA tiene valores nulos.\n",
            "La columna VEL_VIENTO tiene valores nulos.\n",
            "La columna DIR_VIENTO tiene valores nulos.\n",
            "La columna TEMPERATURA tiene valores nulos.\n",
            "La columna HUMEDAD tiene valores nulos.\n",
            "La columna PRECIPITACION tiene valores nulos.\n",
            "La columna DIR_VIENTO_CARDINAL tiene valores nulos.\n"
          ]
        }
      ],
      "source": [
        "datos_seleccionados = data\n",
        "for columna in datos_seleccionados:\n",
        "    if datos_seleccionados[columna].isnull().any():\n",
        "        print(f\"La columna {columna} tiene valores nulos.\")"
      ]
    },
    {
      "cell_type": "markdown",
      "metadata": {
        "id": "t82wQ5wZUwQj"
      },
      "source": [
        "#####  1.2. Visualización de los valores nulos en la gráfica"
      ]
    },
    {
      "cell_type": "code",
      "execution_count": null,
      "metadata": {
        "id": "jKeJF_eiUwQj",
        "outputId": "04bfbffa-3719-4bbf-e865-14bc0aa6b15b"
      },
      "outputs": [
        {
          "data": {
            "text/plain": [
              "<Axes: >"
            ]
          },
          "execution_count": 112,
          "metadata": {},
          "output_type": "execute_result"
        },
        {
          "data": {
            "image/png": "[encoded data removed]",
            "text/plain": [
              "<Figure size 2500x1000 with 2 Axes>"
            ]
          },
          "metadata": {},
          "output_type": "display_data"
        }
      ],
      "source": [
        "import missingno as msno\n",
        "%matplotlib inline\n",
        "msno.matrix(data)"
      ]
    },
    {
      "cell_type": "markdown",
      "metadata": {
        "id": "I9xRhF3pUwQj"
      },
      "source": [
        "#####  1.3. Rellena las columnas que contienen valor nulo con la mediana y crea un nuevo DataFrame."
      ]
    },
    {
      "cell_type": "code",
      "execution_count": null,
      "metadata": {
        "id": "tSeEBgfHUwQk"
      },
      "outputs": [],
      "source": [
        "# función que recibe una lista de columnas, calcula la mediana\n",
        "def nulos(dataframe, columns):\n",
        "    resultado = pd.DataFrame(columns=['Columna', 'Valor_mediana'])\n",
        "\n",
        "    for col in columns:\n",
        "        median_value = dataframe[col].median()\n",
        "        dataframe[col] = dataframe[col].fillna(median_value)\n",
        "\n",
        "        resultado = pd.concat([resultado, pd.DataFrame({\n",
        "            'Columna': [col],\n",
        "            'Valor_mediana': [median_value]\n",
        "        })], ignore_index=True)\n",
        "    df_cuartil = resultado\n",
        "    return resultado"
      ]
    },
    {
      "cell_type": "markdown",
      "metadata": {
        "id": "n6qWg3AsUwQk"
      },
      "source": [
        "#####  1.4. Selecciona solamente aquellas columnas que se quiere calcular la mediana"
      ]
    },
    {
      "cell_type": "code",
      "execution_count": null,
      "metadata": {
        "id": "CMl3cqURUwQk",
        "outputId": "b407cc6f-56d9-4e0a-8cef-5182ee6b16df"
      },
      "outputs": [
        {
          "name": "stdout",
          "output_type": "stream",
          "text": [
            "         Columna  Valor_mediana\n",
            "0            SO2           4.00\n",
            "1           PM10          16.00\n",
            "2             O3          53.75\n",
            "3            NO2          22.00\n",
            "4          PM2.5           8.00\n",
            "5     VEL_VIENTO           0.67\n",
            "6     DIR_VIENTO         123.00\n",
            "7    TEMPERATURA          15.90\n",
            "8        HUMEDAD          63.00\n",
            "9  PRECIPITACION           0.00\n"
          ]
        }
      ],
      "source": [
        "data_nulos = data\n",
        "numeric_columns = ['SO2', 'PM10', 'O3', 'NO2', 'PM2.5', 'VEL_VIENTO', 'DIR_VIENTO', 'TEMPERATURA', 'HUMEDAD', 'PRECIPITACION']  # Lista de columnas\n",
        "\n",
        "resultado = nulos(data_nulos, numeric_columns)\n",
        "print(resultado)"
      ]
    },
    {
      "cell_type": "code",
      "execution_count": null,
      "metadata": {
        "id": "yfgT4yJqUwQl",
        "outputId": "64ba2a89-96bb-4f05-db94-63dab7ab3118"
      },
      "outputs": [
        {
          "data": {
            "text/html": [
              "<div>\n",
              "<style scoped>\n",
              "    .dataframe tbody tr th:only-of-type {\n",
              "        vertical-align: middle;\n",
              "    }\n",
              "\n",
              "    .dataframe tbody tr th {\n",
              "        vertical-align: top;\n",
              "    }\n",
              "\n",
              "    .dataframe thead th {\n",
              "        text-align: right;\n",
              "    }\n",
              "</style>\n",
              "<table border=\"1\" class=\"dataframe\">\n",
              "  <thead>\n",
              "    <tr style=\"text-align: right;\">\n",
              "      <th></th>\n",
              "      <th>CODIGO</th>\n",
              "      <th>FECHA</th>\n",
              "      <th>ANO</th>\n",
              "      <th>MES</th>\n",
              "      <th>DIA</th>\n",
              "      <th>DIA_SEMANA</th>\n",
              "      <th>HORA</th>\n",
              "      <th>ESTACION</th>\n",
              "      <th>SO2</th>\n",
              "      <th>PM10</th>\n",
              "      <th>...</th>\n",
              "      <th>ICA_PM10</th>\n",
              "      <th>ICA_O3</th>\n",
              "      <th>ICA_NO2</th>\n",
              "      <th>ICA</th>\n",
              "      <th>VEL_VIENTO</th>\n",
              "      <th>DIR_VIENTO</th>\n",
              "      <th>TEMPERATURA</th>\n",
              "      <th>HUMEDAD</th>\n",
              "      <th>PRECIPITACION</th>\n",
              "      <th>DIR_VIENTO_CARDINAL</th>\n",
              "    </tr>\n",
              "  </thead>\n",
              "  <tbody>\n",
              "    <tr>\n",
              "      <th>0</th>\n",
              "      <td>28079008</td>\n",
              "      <td>2022-01-01 00:00:00</td>\n",
              "      <td>2022.0</td>\n",
              "      <td>1.0</td>\n",
              "      <td>1.0</td>\n",
              "      <td>Sabado</td>\n",
              "      <td>0</td>\n",
              "      <td>8.0</td>\n",
              "      <td>4.0</td>\n",
              "      <td>16.0</td>\n",
              "      <td>...</td>\n",
              "      <td>32.0</td>\n",
              "      <td>15.32</td>\n",
              "      <td>87.5</td>\n",
              "      <td>34.51</td>\n",
              "      <td>0.67</td>\n",
              "      <td>123.0</td>\n",
              "      <td>15.9</td>\n",
              "      <td>63.0</td>\n",
              "      <td>0.0</td>\n",
              "      <td>NaN</td>\n",
              "    </tr>\n",
              "    <tr>\n",
              "      <th>1</th>\n",
              "      <td>28079008</td>\n",
              "      <td>2022-01-01 01:00:00</td>\n",
              "      <td>2022.0</td>\n",
              "      <td>1.0</td>\n",
              "      <td>1.0</td>\n",
              "      <td>Sabado</td>\n",
              "      <td>1</td>\n",
              "      <td>8.0</td>\n",
              "      <td>4.0</td>\n",
              "      <td>27.0</td>\n",
              "      <td>...</td>\n",
              "      <td>54.0</td>\n",
              "      <td>6.82</td>\n",
              "      <td>120.0</td>\n",
              "      <td>46.00</td>\n",
              "      <td>0.67</td>\n",
              "      <td>123.0</td>\n",
              "      <td>15.9</td>\n",
              "      <td>63.0</td>\n",
              "      <td>0.0</td>\n",
              "      <td>NaN</td>\n",
              "    </tr>\n",
              "    <tr>\n",
              "      <th>2</th>\n",
              "      <td>28079008</td>\n",
              "      <td>2022-01-01 02:00:00</td>\n",
              "      <td>2022.0</td>\n",
              "      <td>1.0</td>\n",
              "      <td>1.0</td>\n",
              "      <td>Sabado</td>\n",
              "      <td>2</td>\n",
              "      <td>8.0</td>\n",
              "      <td>3.0</td>\n",
              "      <td>27.0</td>\n",
              "      <td>...</td>\n",
              "      <td>54.0</td>\n",
              "      <td>5.88</td>\n",
              "      <td>117.5</td>\n",
              "      <td>44.94</td>\n",
              "      <td>0.67</td>\n",
              "      <td>123.0</td>\n",
              "      <td>15.9</td>\n",
              "      <td>63.0</td>\n",
              "      <td>0.0</td>\n",
              "      <td>NaN</td>\n",
              "    </tr>\n",
              "    <tr>\n",
              "      <th>3</th>\n",
              "      <td>28079008</td>\n",
              "      <td>2022-01-01 03:00:00</td>\n",
              "      <td>2022.0</td>\n",
              "      <td>1.0</td>\n",
              "      <td>1.0</td>\n",
              "      <td>Sabado</td>\n",
              "      <td>3</td>\n",
              "      <td>8.0</td>\n",
              "      <td>3.0</td>\n",
              "      <td>17.0</td>\n",
              "      <td>...</td>\n",
              "      <td>34.0</td>\n",
              "      <td>11.85</td>\n",
              "      <td>95.0</td>\n",
              "      <td>35.81</td>\n",
              "      <td>0.67</td>\n",
              "      <td>123.0</td>\n",
              "      <td>15.9</td>\n",
              "      <td>63.0</td>\n",
              "      <td>0.0</td>\n",
              "      <td>NaN</td>\n",
              "    </tr>\n",
              "    <tr>\n",
              "      <th>4</th>\n",
              "      <td>28079008</td>\n",
              "      <td>2022-01-01 04:00:00</td>\n",
              "      <td>2022.0</td>\n",
              "      <td>1.0</td>\n",
              "      <td>1.0</td>\n",
              "      <td>Sabado</td>\n",
              "      <td>4</td>\n",
              "      <td>8.0</td>\n",
              "      <td>3.0</td>\n",
              "      <td>5.0</td>\n",
              "      <td>...</td>\n",
              "      <td>10.0</td>\n",
              "      <td>20.55</td>\n",
              "      <td>65.0</td>\n",
              "      <td>24.49</td>\n",
              "      <td>0.67</td>\n",
              "      <td>123.0</td>\n",
              "      <td>15.9</td>\n",
              "      <td>63.0</td>\n",
              "      <td>0.0</td>\n",
              "      <td>NaN</td>\n",
              "    </tr>\n",
              "  </tbody>\n",
              "</table>\n",
              "<p>5 rows × 27 columns</p>\n",
              "</div>"
            ],
            "text/plain": [
              "     CODIGO                FECHA     ANO  MES  DIA DIA_SEMANA  HORA  ESTACION  \\\n",
              "0  28079008  2022-01-01 00:00:00  2022.0  1.0  1.0     Sabado     0       8.0   \n",
              "1  28079008  2022-01-01 01:00:00  2022.0  1.0  1.0     Sabado     1       8.0   \n",
              "2  28079008  2022-01-01 02:00:00  2022.0  1.0  1.0     Sabado     2       8.0   \n",
              "3  28079008  2022-01-01 03:00:00  2022.0  1.0  1.0     Sabado     3       8.0   \n",
              "4  28079008  2022-01-01 04:00:00  2022.0  1.0  1.0     Sabado     4       8.0   \n",
              "\n",
              "   SO2  PM10  ...  ICA_PM10  ICA_O3  ICA_NO2    ICA  VEL_VIENTO  DIR_VIENTO  \\\n",
              "0  4.0  16.0  ...      32.0   15.32     87.5  34.51        0.67       123.0   \n",
              "1  4.0  27.0  ...      54.0    6.82    120.0  46.00        0.67       123.0   \n",
              "2  3.0  27.0  ...      54.0    5.88    117.5  44.94        0.67       123.0   \n",
              "3  3.0  17.0  ...      34.0   11.85     95.0  35.81        0.67       123.0   \n",
              "4  3.0   5.0  ...      10.0   20.55     65.0  24.49        0.67       123.0   \n",
              "\n",
              "   TEMPERATURA  HUMEDAD  PRECIPITACION  DIR_VIENTO_CARDINAL  \n",
              "0         15.9     63.0            0.0                  NaN  \n",
              "1         15.9     63.0            0.0                  NaN  \n",
              "2         15.9     63.0            0.0                  NaN  \n",
              "3         15.9     63.0            0.0                  NaN  \n",
              "4         15.9     63.0            0.0                  NaN  \n",
              "\n",
              "[5 rows x 27 columns]"
            ]
          },
          "execution_count": 115,
          "metadata": {},
          "output_type": "execute_result"
        }
      ],
      "source": [
        "data_nulos.head()"
      ]
    },
    {
      "cell_type": "markdown",
      "metadata": {
        "id": "BtYKUNUhUwQl"
      },
      "source": [
        "Verifica si todavia hay valores nulos para las columnas selecionadas"
      ]
    },
    {
      "cell_type": "code",
      "execution_count": null,
      "metadata": {
        "id": "Q64yoxnGUwQl",
        "outputId": "7c49f533-5c47-4c1e-df19-dc00cd1cf46c"
      },
      "outputs": [
        {
          "data": {
            "text/plain": [
              "CODIGO                     0\n",
              "FECHA                      0\n",
              "ANO                        0\n",
              "MES                        0\n",
              "DIA                        0\n",
              "DIA_SEMANA                 0\n",
              "HORA                       0\n",
              "ESTACION                   0\n",
              "SO2                        0\n",
              "PM10                       0\n",
              "O3                         0\n",
              "NO2                        0\n",
              "PM2.5                      0\n",
              "NOM_TIPO               43536\n",
              "LATITUD                43536\n",
              "LONGITUD               43536\n",
              "ICA_SO2                61779\n",
              "ICA_PM10               55056\n",
              "ICA_O3                 52752\n",
              "ICA_NO2                43975\n",
              "ICA                    43754\n",
              "VEL_VIENTO                 0\n",
              "DIR_VIENTO                 0\n",
              "TEMPERATURA                0\n",
              "HUMEDAD                    0\n",
              "PRECIPITACION              0\n",
              "DIR_VIENTO_CARDINAL    43536\n",
              "dtype: int64"
            ]
          },
          "execution_count": 116,
          "metadata": {},
          "output_type": "execute_result"
        }
      ],
      "source": [
        "data_nulos.isnull().sum()"
      ]
    },
    {
      "cell_type": "markdown",
      "metadata": {
        "id": "AVsxo5nSUwQl"
      },
      "source": [
        "#####  1.4. Genera el CSV después del pocesamiento de los valores nulos"
      ]
    },
    {
      "cell_type": "code",
      "execution_count": null,
      "metadata": {
        "id": "eWgMyHLEUwQm"
      },
      "outputs": [],
      "source": [
        "data_nulos.to_csv(ruta_nuevoCSV, index=False)"
      ]
    }
  ],
  "metadata": {
    "kernelspec": {
      "display_name": "nombre_kernel",
      "language": "python",
      "name": "nombre_kernel"
    },
    "language_info": {
      "codemirror_mode": {
        "name": "ipython",
        "version": 3
      },
      "file_extension": ".py",
      "mimetype": "text/x-python",
      "name": "python",
      "nbconvert_exporter": "python",
      "pygments_lexer": "ipython3",
      "version": "3.10.10"
    },
    "orig_nbformat": 4,
    "colab": {
      "provenance": [],
      "include_colab_link": true
    }
  },
  "nbformat": 4,
  "nbformat_minor": 0
}