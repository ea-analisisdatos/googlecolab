{
  "nbformat": 4,
  "nbformat_minor": 0,
  "metadata": {
    "colab": {
      "provenance": [],
      "toc_visible": true,
      "authorship_tag": "ABX9TyPVJOK180GzXA/yPsxKsUzk",
      "include_colab_link": true
    },
    "kernelspec": {
      "name": "python3",
      "display_name": "Python 3"
    },
    "language_info": {
      "name": "python"
    }
  },
  "cells": [
    {
      "cell_type": "markdown",
      "metadata": {
        "id": "view-in-github",
        "colab_type": "text"
      },
      "source": [
        "<a href=\"https://colab.research.google.com/github/ea-analisisdatos/googlecolab/blob/main/limpieza_datos.ipynb\" target=\"_parent\"><img src=\"https://colab.research.google.com/assets/colab-badge.svg\" alt=\"Open In Colab\"/></a>"
      ]
    },
    {
      "cell_type": "markdown",
      "source": [
        "# **LIMPIEZA DE LOS DATOS**\n",
        "\n",
        "---\n",
        "\n",
        "\n",
        "En este cuaderno vamos preparar los datos para la próxima fase del proyecto.\n",
        "\n",
        "- **Paso 1: Análisis y exploración de los datos colectados para el proyecto**\n",
        "\n",
        "  **Período analizado: 2019 al 2022.**\n",
        "  Este proycto esta basado en datos abiertos de la Comunidade de madrid e...\n",
        "  Aunque las estaciones de calidad de aire de Madrid tenga datos anteriores, hemos acotado la abrangencia del trabajo porque las bases de datos metereologicos solamente poseen mediciones a partir de 2019 y para cruzar los datos metereologicos con los poluentes atmoféricos tuvimos que optar por tener el mismo periodo en ambas bases de datos. Ademas, tanto las bases de datos de mediciones de calidad de aire como la de control metereologicos comparten el mismo registro de Estaciones de mediciones diferindo apenas en los parámetros cuando se trata de un y cuando se trata del otro. Esto será mejor explicando cuando hagamos la analisis de las columnas de las bases de datos.\n",
        "\n",
        "  Analisamos e exploramos todo el conjunto de datos colectado para esto primeramente cargamos todos los datos en un dataframe para realizar los estudios.\n",
        "\n",
        "  **Bases de datos usadas en el proyecto**\n",
        "\n",
        "  Mediciones de la calidad del aire de Madrid: Los datos pertenencen a las mediciones del año 2019 al año 2022.\n",
        "  Estaciones Las estaciones donde estan los equipos usados para toma de los valores de los contaminates atmosféricos.\n",
        "  \n",
        "  Los datos se encuentran almacenados en Google Drive en sus respectivas carpetas. Para esto, hemos creado un estrutura de carpetas para este proyecto:\n",
        "  \n",
        "  - Carpeta raíz (Mi unidad)\n",
        "    - Colab Notebooks\n",
        "    - data\n",
        "      - aire\n",
        "      - metereologia\n",
        "      - salud\n",
        "    - dashboards\n",
        "    - models\n",
        "\n",
        "      \n",
        "- **Paso 2: Generación de gráficas para evaluación del volumen de trabajo inicial**\n",
        "\n",
        "  Para  tener una idea general de como se escuentra nuestras bases de datos, generamos algunas gráficas para evaluar el volumen de trabajo que debemos realizar para preparar los datos para la próxima fase del proyecto.\n",
        "\n",
        "- **Paso 3: Tratamiento de los datos**\n",
        "Hacemos el tratamiento de los datos, limpiando informaciones que no vamos usar en este proyecto, rellenamos las columnas que poseen valores faltantes si hay necesidad.\n",
        "Relacionamos várias bases de datos entre si para obtener los datos necesarios para generación de las estadísticas.\n",
        "Por fin, generamos las gráficas presentando como han quedado los dados después de seren tratados.\n",
        "\n",
        "\n",
        "**Fuentes de informaciones:**\n",
        "- Datos abiertos sobre la Calidad del Aire en Madrid\n",
        "\n",
        "  https://datos.comunidad.madrid/catalogo/dataset?tags=+Calidad+del+aire\n",
        "\n",
        "- Red de Calidad del Aire. Datos horarios desde 2005\n",
        "Conjunto de datos horarios medidos de forma automática en las estaciones de la Red de Calidad del Aire de la Comunidad de Madrid por anualidades (de 2005 a último mes completo año en curso): NO,NO2,O3,PM10,PM2.5,SO2,CO,Benceno, Tolueno, M-Xileno, Hidrocarburos totales y Hidrocarburos no metánicos.\n",
        "\n",
        "  https://datos.comunidad.madrid/catalogo/dataset/calidad_aire_datos_historico\n",
        "\n"
      ],
      "metadata": {
        "id": "zn6KZZT0amUy"
      }
    },
    {
      "cell_type": "markdown",
      "source": [
        "#### **MONTAJE DE LA UNIDAD DE GOOGLE DRIVE :**\n",
        "Podremos leer las carpetas y ficheros almacenados en Google Drive"
      ],
      "metadata": {
        "id": "mEO2_7DzFTLj"
      }
    },
    {
      "cell_type": "code",
      "source": [
        "from google.colab import drive\n",
        "\n",
        "drive.mount('/content/gdrive', force_remount=True)"
      ],
      "metadata": {
        "colab": {
          "base_uri": "https://localhost:8080/"
        },
        "id": "gOHEASXXFPbc",
        "outputId": "cf22bacc-9c9b-401d-f39c-484a86a82cbc"
      },
      "execution_count": 30,
      "outputs": [
        {
          "output_type": "stream",
          "name": "stdout",
          "text": [
            "Mounted at /content/gdrive\n"
          ]
        }
      ]
    },
    {
      "cell_type": "markdown",
      "source": [
        "#### **IMPORTAR BIBLIOTECAS**"
      ],
      "metadata": {
        "id": "iEavzokIE9ZK"
      }
    },
    {
      "cell_type": "code",
      "execution_count": 31,
      "metadata": {
        "id": "rCa8RpJ3EC-M"
      },
      "outputs": [],
      "source": [
        "import pandas as pd\n",
        "\n",
        "# Bibliotecas para ayudar a leer automaticamente los archivos contenidos dentro \n",
        "# de una carpeta\n",
        "import os # proporciona funciones para interactuar con el sistema operativo \n",
        "import re # trabajar con expresiones regulares\n",
        "import glob\n",
        "\n",
        "from datetime import datetime\n"
      ]
    },
    {
      "cell_type": "markdown",
      "source": [
        "#### **CARGAR CSVs**"
      ],
      "metadata": {
        "id": "0oh1wt0pFLPk"
      }
    },
    {
      "cell_type": "code",
      "source": [
        "ruta_carpeta_aire_mediciones_por_hora = '/content/gdrive/MyDrive/data/aire/mediciones_por_horas'\n",
        "ruta_carpeta_metereologia = '/content/gdrive/MyDrive/data/metereologia'\n",
        "ruta_carpeta_estaciones = '/content/gdrive/MyDrive/data/estaciones'\n",
        "\n",
        "ruta_carpeta_estaciones_aire = '/content/gdrive/MyDrive/data/estaciones/estaciones.csv'\n",
        "ruta_carpeta_estaciones_metereologicas = '/content/gdrive/MyDrive/data/estaciones/Estaciones_control_datos_meteorologicos.csv'\n"
      ],
      "metadata": {
        "id": "rYW7BjcA1I28"
      },
      "execution_count": 32,
      "outputs": []
    },
    {
      "cell_type": "markdown",
      "source": [
        "##### **Lista los nombres de los archivos (*.csv) en la ruta indicada**"
      ],
      "metadata": {
        "id": "yEYhbjatAPij"
      }
    },
    {
      "cell_type": "markdown",
      "source": [
        "**CSVs de mediciones horarias de la calidad del aires**\n",
        "Neste punto nos encontramos en que "
      ],
      "metadata": {
        "id": "pxWrDvoFBBj4"
      }
    },
    {
      "cell_type": "code",
      "source": [
        "#df_dict = {}  \n",
        "anios = []\n",
        "# Hace la lectura de todos los CSV contenidos en la ruta indicada. Luego coge \n",
        "# las 2 ultimas posiciones del nombre del archivo, en este caso el año.\n",
        "# Crea una lista solamente con los años distinctos, no se permite agregar a \n",
        "# la lista años repetidos, para esto esta la condicion if.\n",
        "for archivo in os.listdir(ruta_carpeta_aire_mediciones_por_hora):\n",
        "    if archivo.lower().endswith('.csv'):\n",
        "        match = re.search(r'mo(\\d{2})', archivo)\n",
        "        if match:\n",
        "            anio = match.group(1)\n",
        "            if anio not in anios:\n",
        "              anios.append(anio)\n",
        "\n",
        "# Creación dinámica de los DataFrames basado en la lista de año creada\n",
        "# anteriormente\n",
        "for anio in anios:\n",
        "  # Verificar si el DataFrame ya ha sido creado\n",
        "  #if 'df' not in locals():\n",
        "  if  ('df_aire_'+anio) not in locals():\n",
        "    # Crear un DataFrame vacío\n",
        "    globals()['df_aire_'+anio] = pd.DataFrame()              \n",
        "    # print(eval(anio))\n",
        "\n",
        "# Obtener todas las variables globales\n",
        "variables_globales = globals()\n",
        "\n",
        "# Imprimir los DataFrames creados dentro de globals\n",
        "for nombre, valor in variables_globales.items():\n",
        "    if isinstance(valor, pd.DataFrame):\n",
        "        print(f\"DataFrame '{nombre}':\")\n",
        "        # print(valor)\n",
        "        print()\n"
      ],
      "metadata": {
        "id": "H5fIKZG7NT25",
        "colab": {
          "base_uri": "https://localhost:8080/"
        },
        "outputId": "249f9bd6-2975-4bf9-8246-320df4587aaa"
      },
      "execution_count": 71,
      "outputs": [
        {
          "output_type": "stream",
          "name": "stdout",
          "text": [
            "DataFrame '_':\n",
            "\n",
            "DataFrame '__':\n",
            "\n",
            "DataFrame '___':\n",
            "\n",
            "DataFrame 'df':\n",
            "\n",
            "DataFrame '_12':\n",
            "\n",
            "DataFrame 'df1':\n",
            "\n",
            "DataFrame 'df2':\n",
            "\n",
            "DataFrame 'df3':\n",
            "\n",
            "DataFrame '_14':\n",
            "\n",
            "DataFrame 'df_19':\n",
            "\n",
            "DataFrame 'df_20':\n",
            "\n",
            "DataFrame 'df_21':\n",
            "\n",
            "DataFrame 'df_22':\n",
            "\n",
            "DataFrame '_34':\n",
            "\n",
            "DataFrame '_50':\n",
            "\n",
            "DataFrame 'df_aire19':\n",
            "\n",
            "DataFrame 'df_aire20':\n",
            "\n",
            "DataFrame 'df_aire21':\n",
            "\n",
            "DataFrame 'df_aire22':\n",
            "\n",
            "DataFrame 'df_aire_19':\n",
            "\n",
            "DataFrame 'df_aire_20':\n",
            "\n",
            "DataFrame 'df_aire_21':\n",
            "\n",
            "DataFrame 'df_aire_22':\n",
            "\n",
            "DataFrame '_53':\n",
            "\n",
            "DataFrame '_67':\n",
            "\n"
          ]
        }
      ]
    },
    {
      "cell_type": "code",
      "source": [],
      "metadata": {
        "id": "OBND_2G-rafW"
      },
      "execution_count": null,
      "outputs": []
    },
    {
      "cell_type": "code",
      "source": [
        "#1.\tEliminar referencias a los dataframes: Si has creado los dataframes dinámicamente y los has almacenado en una lista o variables, puedes eliminar esas referencias para permitir que el recolector de basura libere la memoria asociada. Aquí hay un ejemplo de cómo hacerlo:\n",
        "\n",
        "import pandas as pd\n",
        "\n",
        "# Crear dataframes vacíos\n",
        "df_aire19 = pd.DataFrame()\n",
        "df_aire20 = pd.DataFrame()\n",
        "\n",
        "# Almacenar los dataframes en una lista\n",
        "lst = [df_aire19, df_aire20]\n",
        "\n",
        "# Eliminar la lista y, por lo tanto, las referencias a los dataframes\n",
        "del lst\n"
      ],
      "metadata": {
        "id": "Prip0lQRmFBR"
      },
      "execution_count": 66,
      "outputs": []
    },
    {
      "cell_type": "code",
      "source": [],
      "metadata": {
        "colab": {
          "base_uri": "https://localhost:8080/",
          "height": 49
        },
        "id": "MpbNmwC3fIid",
        "outputId": "6c57600c-7c92-44e6-9fb0-45ad54ac3bd2"
      },
      "execution_count": 67,
      "outputs": [
        {
          "output_type": "execute_result",
          "data": {
            "text/plain": [
              "Empty DataFrame\n",
              "Columns: []\n",
              "Index: []"
            ],
            "text/html": [
              "\n",
              "  <div id=\"df-00f0a96e-4544-4e2c-ab77-b5926b488cec\">\n",
              "    <div class=\"colab-df-container\">\n",
              "      <div>\n",
              "<style scoped>\n",
              "    .dataframe tbody tr th:only-of-type {\n",
              "        vertical-align: middle;\n",
              "    }\n",
              "\n",
              "    .dataframe tbody tr th {\n",
              "        vertical-align: top;\n",
              "    }\n",
              "\n",
              "    .dataframe thead th {\n",
              "        text-align: right;\n",
              "    }\n",
              "</style>\n",
              "<table border=\"1\" class=\"dataframe\">\n",
              "  <thead>\n",
              "    <tr style=\"text-align: right;\">\n",
              "      <th></th>\n",
              "    </tr>\n",
              "  </thead>\n",
              "  <tbody>\n",
              "  </tbody>\n",
              "</table>\n",
              "</div>\n",
              "      <button class=\"colab-df-convert\" onclick=\"convertToInteractive('df-00f0a96e-4544-4e2c-ab77-b5926b488cec')\"\n",
              "              title=\"Convert this dataframe to an interactive table.\"\n",
              "              style=\"display:none;\">\n",
              "        \n",
              "  <svg xmlns=\"http://www.w3.org/2000/svg\" height=\"24px\"viewBox=\"0 0 24 24\"\n",
              "       width=\"24px\">\n",
              "    <path d=\"M0 0h24v24H0V0z\" fill=\"none\"/>\n",
              "    <path d=\"M18.56 5.44l.94 2.06.94-2.06 2.06-.94-2.06-.94-.94-2.06-.94 2.06-2.06.94zm-11 1L8.5 8.5l.94-2.06 2.06-.94-2.06-.94L8.5 2.5l-.94 2.06-2.06.94zm10 10l.94 2.06.94-2.06 2.06-.94-2.06-.94-.94-2.06-.94 2.06-2.06.94z\"/><path d=\"M17.41 7.96l-1.37-1.37c-.4-.4-.92-.59-1.43-.59-.52 0-1.04.2-1.43.59L10.3 9.45l-7.72 7.72c-.78.78-.78 2.05 0 2.83L4 21.41c.39.39.9.59 1.41.59.51 0 1.02-.2 1.41-.59l7.78-7.78 2.81-2.81c.8-.78.8-2.07 0-2.86zM5.41 20L4 18.59l7.72-7.72 1.47 1.35L5.41 20z\"/>\n",
              "  </svg>\n",
              "      </button>\n",
              "      \n",
              "  <style>\n",
              "    .colab-df-container {\n",
              "      display:flex;\n",
              "      flex-wrap:wrap;\n",
              "      gap: 12px;\n",
              "    }\n",
              "\n",
              "    .colab-df-convert {\n",
              "      background-color: #E8F0FE;\n",
              "      border: none;\n",
              "      border-radius: 50%;\n",
              "      cursor: pointer;\n",
              "      display: none;\n",
              "      fill: #1967D2;\n",
              "      height: 32px;\n",
              "      padding: 0 0 0 0;\n",
              "      width: 32px;\n",
              "    }\n",
              "\n",
              "    .colab-df-convert:hover {\n",
              "      background-color: #E2EBFA;\n",
              "      box-shadow: 0px 1px 2px rgba(60, 64, 67, 0.3), 0px 1px 3px 1px rgba(60, 64, 67, 0.15);\n",
              "      fill: #174EA6;\n",
              "    }\n",
              "\n",
              "    [theme=dark] .colab-df-convert {\n",
              "      background-color: #3B4455;\n",
              "      fill: #D2E3FC;\n",
              "    }\n",
              "\n",
              "    [theme=dark] .colab-df-convert:hover {\n",
              "      background-color: #434B5C;\n",
              "      box-shadow: 0px 1px 3px 1px rgba(0, 0, 0, 0.15);\n",
              "      filter: drop-shadow(0px 1px 2px rgba(0, 0, 0, 0.3));\n",
              "      fill: #FFFFFF;\n",
              "    }\n",
              "  </style>\n",
              "\n",
              "      <script>\n",
              "        const buttonEl =\n",
              "          document.querySelector('#df-00f0a96e-4544-4e2c-ab77-b5926b488cec button.colab-df-convert');\n",
              "        buttonEl.style.display =\n",
              "          google.colab.kernel.accessAllowed ? 'block' : 'none';\n",
              "\n",
              "        async function convertToInteractive(key) {\n",
              "          const element = document.querySelector('#df-00f0a96e-4544-4e2c-ab77-b5926b488cec');\n",
              "          const dataTable =\n",
              "            await google.colab.kernel.invokeFunction('convertToInteractive',\n",
              "                                                     [key], {});\n",
              "          if (!dataTable) return;\n",
              "\n",
              "          const docLinkHtml = 'Like what you see? Visit the ' +\n",
              "            '<a target=\"_blank\" href=https://colab.research.google.com/notebooks/data_table.ipynb>data table notebook</a>'\n",
              "            + ' to learn more about interactive tables.';\n",
              "          element.innerHTML = '';\n",
              "          dataTable['output_type'] = 'display_data';\n",
              "          await google.colab.output.renderOutput(dataTable, element);\n",
              "          const docLink = document.createElement('div');\n",
              "          docLink.innerHTML = docLinkHtml;\n",
              "          element.appendChild(docLink);\n",
              "        }\n",
              "      </script>\n",
              "    </div>\n",
              "  </div>\n",
              "  "
            ]
          },
          "metadata": {},
          "execution_count": 67
        }
      ]
    },
    {
      "cell_type": "markdown",
      "source": [
        "CSVs de datos de control meteorologicos"
      ],
      "metadata": {
        "id": "Ycp3IaogBPA7"
      }
    },
    {
      "cell_type": "code",
      "source": [],
      "metadata": {
        "colab": {
          "base_uri": "https://localhost:8080/",
          "height": 49
        },
        "id": "LhS-hl5ldBiM",
        "outputId": "b99b0e76-5a7b-4ff7-ca15-72e684b2559c"
      },
      "execution_count": 34,
      "outputs": [
        {
          "output_type": "execute_result",
          "data": {
            "text/plain": [
              "Empty DataFrame\n",
              "Columns: []\n",
              "Index: []"
            ],
            "text/html": [
              "\n",
              "  <div id=\"df-c5f094fc-128b-46cd-b0a9-08a625f19404\">\n",
              "    <div class=\"colab-df-container\">\n",
              "      <div>\n",
              "<style scoped>\n",
              "    .dataframe tbody tr th:only-of-type {\n",
              "        vertical-align: middle;\n",
              "    }\n",
              "\n",
              "    .dataframe tbody tr th {\n",
              "        vertical-align: top;\n",
              "    }\n",
              "\n",
              "    .dataframe thead th {\n",
              "        text-align: right;\n",
              "    }\n",
              "</style>\n",
              "<table border=\"1\" class=\"dataframe\">\n",
              "  <thead>\n",
              "    <tr style=\"text-align: right;\">\n",
              "      <th></th>\n",
              "    </tr>\n",
              "  </thead>\n",
              "  <tbody>\n",
              "  </tbody>\n",
              "</table>\n",
              "</div>\n",
              "      <button class=\"colab-df-convert\" onclick=\"convertToInteractive('df-c5f094fc-128b-46cd-b0a9-08a625f19404')\"\n",
              "              title=\"Convert this dataframe to an interactive table.\"\n",
              "              style=\"display:none;\">\n",
              "        \n",
              "  <svg xmlns=\"http://www.w3.org/2000/svg\" height=\"24px\"viewBox=\"0 0 24 24\"\n",
              "       width=\"24px\">\n",
              "    <path d=\"M0 0h24v24H0V0z\" fill=\"none\"/>\n",
              "    <path d=\"M18.56 5.44l.94 2.06.94-2.06 2.06-.94-2.06-.94-.94-2.06-.94 2.06-2.06.94zm-11 1L8.5 8.5l.94-2.06 2.06-.94-2.06-.94L8.5 2.5l-.94 2.06-2.06.94zm10 10l.94 2.06.94-2.06 2.06-.94-2.06-.94-.94-2.06-.94 2.06-2.06.94z\"/><path d=\"M17.41 7.96l-1.37-1.37c-.4-.4-.92-.59-1.43-.59-.52 0-1.04.2-1.43.59L10.3 9.45l-7.72 7.72c-.78.78-.78 2.05 0 2.83L4 21.41c.39.39.9.59 1.41.59.51 0 1.02-.2 1.41-.59l7.78-7.78 2.81-2.81c.8-.78.8-2.07 0-2.86zM5.41 20L4 18.59l7.72-7.72 1.47 1.35L5.41 20z\"/>\n",
              "  </svg>\n",
              "      </button>\n",
              "      \n",
              "  <style>\n",
              "    .colab-df-container {\n",
              "      display:flex;\n",
              "      flex-wrap:wrap;\n",
              "      gap: 12px;\n",
              "    }\n",
              "\n",
              "    .colab-df-convert {\n",
              "      background-color: #E8F0FE;\n",
              "      border: none;\n",
              "      border-radius: 50%;\n",
              "      cursor: pointer;\n",
              "      display: none;\n",
              "      fill: #1967D2;\n",
              "      height: 32px;\n",
              "      padding: 0 0 0 0;\n",
              "      width: 32px;\n",
              "    }\n",
              "\n",
              "    .colab-df-convert:hover {\n",
              "      background-color: #E2EBFA;\n",
              "      box-shadow: 0px 1px 2px rgba(60, 64, 67, 0.3), 0px 1px 3px 1px rgba(60, 64, 67, 0.15);\n",
              "      fill: #174EA6;\n",
              "    }\n",
              "\n",
              "    [theme=dark] .colab-df-convert {\n",
              "      background-color: #3B4455;\n",
              "      fill: #D2E3FC;\n",
              "    }\n",
              "\n",
              "    [theme=dark] .colab-df-convert:hover {\n",
              "      background-color: #434B5C;\n",
              "      box-shadow: 0px 1px 3px 1px rgba(0, 0, 0, 0.15);\n",
              "      filter: drop-shadow(0px 1px 2px rgba(0, 0, 0, 0.3));\n",
              "      fill: #FFFFFF;\n",
              "    }\n",
              "  </style>\n",
              "\n",
              "      <script>\n",
              "        const buttonEl =\n",
              "          document.querySelector('#df-c5f094fc-128b-46cd-b0a9-08a625f19404 button.colab-df-convert');\n",
              "        buttonEl.style.display =\n",
              "          google.colab.kernel.accessAllowed ? 'block' : 'none';\n",
              "\n",
              "        async function convertToInteractive(key) {\n",
              "          const element = document.querySelector('#df-c5f094fc-128b-46cd-b0a9-08a625f19404');\n",
              "          const dataTable =\n",
              "            await google.colab.kernel.invokeFunction('convertToInteractive',\n",
              "                                                     [key], {});\n",
              "          if (!dataTable) return;\n",
              "\n",
              "          const docLinkHtml = 'Like what you see? Visit the ' +\n",
              "            '<a target=\"_blank\" href=https://colab.research.google.com/notebooks/data_table.ipynb>data table notebook</a>'\n",
              "            + ' to learn more about interactive tables.';\n",
              "          element.innerHTML = '';\n",
              "          dataTable['output_type'] = 'display_data';\n",
              "          await google.colab.output.renderOutput(dataTable, element);\n",
              "          const docLink = document.createElement('div');\n",
              "          docLink.innerHTML = docLinkHtml;\n",
              "          element.appendChild(docLink);\n",
              "        }\n",
              "      </script>\n",
              "    </div>\n",
              "  </div>\n",
              "  "
            ]
          },
          "metadata": {},
          "execution_count": 34
        }
      ]
    },
    {
      "cell_type": "markdown",
      "source": [
        "CSVs de datos de Estacones de Control de Aire y de Meteorología"
      ],
      "metadata": {
        "id": "zLRKcog2FMCQ"
      }
    },
    {
      "cell_type": "code",
      "source": [],
      "metadata": {
        "id": "SVpppe4RFKJV"
      },
      "execution_count": 34,
      "outputs": []
    },
    {
      "cell_type": "markdown",
      "source": [
        "##### **PROCESO AUTOMATIZADO PARA LA CARGA Y LECTURA DE LOS ARCHIVOS**"
      ],
      "metadata": {
        "id": "BKP0CGPXKiOO"
      }
    },
    {
      "cell_type": "markdown",
      "source": [
        "Este código Python busca archivos CSV en una carpeta, los lee en DataFrames de pandas y los almacena en un diccionario utilizando nombres generados automáticamente. Esto facilita el acceso y el procesamiento de los DataFrames individualmente."
      ],
      "metadata": {
        "id": "t15VTzNfenmQ"
      }
    },
    {
      "cell_type": "code",
      "source": [
        "\n"
      ],
      "metadata": {
        "id": "Fil44z7XkQ0Q"
      },
      "execution_count": 34,
      "outputs": []
    }
  ]
}